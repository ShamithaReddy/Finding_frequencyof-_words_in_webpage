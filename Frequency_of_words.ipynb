{
 "cells": [
  {
   "cell_type": "code",
   "execution_count": 1,
   "id": "6cbc9226",
   "metadata": {},
   "outputs": [],
   "source": [
    "from bs4 import BeautifulSoup as bs\n",
    "import urllib.request \n",
    "import nltk \n",
    "import pandas as pd\n",
    "from nltk.corpus import stopwords \n",
    "from urllib.request import Request,urlopen"
   ]
  },
  {
   "cell_type": "code",
   "execution_count": 3,
   "id": "400f1bc1",
   "metadata": {},
   "outputs": [],
   "source": [
    "req = Request('http://php.net/',headers={'User-Agent': 'Mozilla/5.0','Accept': 'text/html,application/xhtml+xml,application/xml;q=0.9,*/*;q=0.8',})\n",
    "file=urlopen(req).read().decode('utf-8')"
   ]
  },
  {
   "cell_type": "code",
   "execution_count": 4,
   "id": "fedb5cae",
   "metadata": {},
   "outputs": [],
   "source": [
    "soup = bs(file,\"html5lib\") "
   ]
  },
  {
   "cell_type": "code",
   "execution_count": 5,
   "id": "9db8c2d3",
   "metadata": {},
   "outputs": [],
   "source": [
    "text = soup.get_text(strip=True) "
   ]
  },
  {
   "cell_type": "code",
   "execution_count": 6,
   "id": "324949a7",
   "metadata": {},
   "outputs": [],
   "source": [
    "tokens = [t for t in text.split()] "
   ]
  },
  {
   "cell_type": "code",
   "execution_count": 7,
   "id": "d070802f",
   "metadata": {},
   "outputs": [],
   "source": [
    "clean_tokens = tokens[:] \n",
    "sr = stopwords.words('english') "
   ]
  },
  {
   "cell_type": "code",
   "execution_count": 8,
   "id": "e53c5b6f",
   "metadata": {},
   "outputs": [],
   "source": [
    "for token in tokens: \n",
    "    if token in stopwords.words('english'): \n",
    "        clean_tokens.remove(token) "
   ]
  },
  {
   "cell_type": "code",
   "execution_count": 9,
   "id": "488315b5",
   "metadata": {},
   "outputs": [],
   "source": [
    "Key=[]\n",
    "Frequency=[]"
   ]
  },
  {
   "cell_type": "code",
   "execution_count": 11,
   "id": "1c892785",
   "metadata": {},
   "outputs": [],
   "source": [
    "freq = nltk.FreqDist(clean_tokens)"
   ]
  },
  {
   "cell_type": "code",
   "execution_count": 12,
   "id": "f764c523",
   "metadata": {},
   "outputs": [],
   "source": [
    "for key,val in freq.items():\n",
    "    Key.append(str(key))\n",
    "    Frequency.append(str(val))"
   ]
  },
  {
   "cell_type": "code",
   "execution_count": 13,
   "id": "f949c689",
   "metadata": {},
   "outputs": [],
   "source": [
    "freq_df=pd.DataFrame()"
   ]
  },
  {
   "cell_type": "code",
   "execution_count": 14,
   "id": "d1711a08",
   "metadata": {},
   "outputs": [],
   "source": [
    "freq_df['Key']=Key\n",
    "freq_df['Frequency']=Frequency"
   ]
  },
  {
   "cell_type": "code",
   "execution_count": 15,
   "id": "ab910ed8",
   "metadata": {},
   "outputs": [
    {
     "data": {
      "image/png": "[encoded data removed]",
      "text/plain": [
       "<Figure size 432x288 with 1 Axes>"
      ]
     },
     "metadata": {
      "needs_background": "light"
     },
     "output_type": "display_data"
    },
    {
     "data": {
      "text/plain": [
       "<AxesSubplot:xlabel='Samples', ylabel='Counts'>"
      ]
     },
     "execution_count": 15,
     "metadata": {},
     "output_type": "execute_result"
    }
   ],
   "source": [
    "freq.plot(20)"
   ]
  },
  {
   "cell_type": "code",
   "execution_count": 18,
   "id": "73d941b0",
   "metadata": {},
   "outputs": [],
   "source": [
    "Task_2=freq_df.to_excel('Task-2_Freq_of_words.xlsx',index=False)"
   ]
  },
  {
   "cell_type": "code",
   "execution_count": null,
   "id": "80966d4b",
   "metadata": {},
   "outputs": [],
   "source": []
  }
 ],
 "metadata": {
  "kernelspec": {
   "display_name": "Python 3",
   "language": "python",
   "name": "python3"
  },
  "language_info": {
   "codemirror_mode": {
    "name": "ipython",
    "version": 3
   },
   "file_extension": ".py",
   "mimetype": "text/x-python",
   "name": "python",
   "nbconvert_exporter": "python",
   "pygments_lexer": "ipython3",
   "version": "3.8.8"
  }
 },
 "nbformat": 4,
 "nbformat_minor": 5
}
